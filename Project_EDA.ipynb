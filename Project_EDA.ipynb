{
 "cells": [
  {
   "cell_type": "markdown",
   "metadata": {
    "id": "Rxje86bG3h5X"
   },
   "source": [
    "# **Import Libraries**"
   ]
  },
  {
   "cell_type": "code",
   "execution_count": 1,
   "metadata": {
    "id": "Bq7roh3w3J6I"
   },
   "outputs": [],
   "source": [
    "import pandas as pd\n",
    "import numpy as np\n",
    "from sklearn.model_selection import train_test_split\n"
   ]
  },
  {
   "cell_type": "markdown",
   "metadata": {
    "id": "2wnDqd_467jq"
   },
   "source": [
    "# **Import dataset**\n",
    "and view top 5 rows of dataset"
   ]
  },
  {
   "cell_type": "code",
   "execution_count": 2,
   "metadata": {
    "colab": {
     "base_uri": "https://localhost:8080/",
     "height": 508
    },
    "id": "jFCfyzXH6Cvk",
    "outputId": "0710a327-d390-447c-e350-347531ba2586"
   },
   "outputs": [
    {
     "data": {
      "text/html": [
       "<div>\n",
       "<style scoped>\n",
       "    .dataframe tbody tr th:only-of-type {\n",
       "        vertical-align: middle;\n",
       "    }\n",
       "\n",
       "    .dataframe tbody tr th {\n",
       "        vertical-align: top;\n",
       "    }\n",
       "\n",
       "    .dataframe thead th {\n",
       "        text-align: right;\n",
       "    }\n",
       "</style>\n",
       "<table border=\"1\" class=\"dataframe\">\n",
       "  <thead>\n",
       "    <tr style=\"text-align: right;\">\n",
       "      <th></th>\n",
       "      <th>class</th>\n",
       "      <th>cap-shape</th>\n",
       "      <th>cap-surface</th>\n",
       "      <th>cap-color</th>\n",
       "      <th>bruises</th>\n",
       "      <th>odor</th>\n",
       "      <th>gill-attachment</th>\n",
       "      <th>gill-spacing</th>\n",
       "      <th>gill-size</th>\n",
       "      <th>gill-color</th>\n",
       "      <th>...</th>\n",
       "      <th>stalk-surface-below-ring</th>\n",
       "      <th>stalk-color-above-ring</th>\n",
       "      <th>stalk-color-below-ring</th>\n",
       "      <th>veil-type</th>\n",
       "      <th>veil-color</th>\n",
       "      <th>ring-number</th>\n",
       "      <th>ring-type</th>\n",
       "      <th>spore-print-color</th>\n",
       "      <th>population</th>\n",
       "      <th>habitat</th>\n",
       "    </tr>\n",
       "  </thead>\n",
       "  <tbody>\n",
       "    <tr>\n",
       "      <th>0</th>\n",
       "      <td>p</td>\n",
       "      <td>x</td>\n",
       "      <td>s</td>\n",
       "      <td>n</td>\n",
       "      <td>t</td>\n",
       "      <td>p</td>\n",
       "      <td>f</td>\n",
       "      <td>c</td>\n",
       "      <td>n</td>\n",
       "      <td>k</td>\n",
       "      <td>...</td>\n",
       "      <td>s</td>\n",
       "      <td>w</td>\n",
       "      <td>w</td>\n",
       "      <td>p</td>\n",
       "      <td>w</td>\n",
       "      <td>o</td>\n",
       "      <td>p</td>\n",
       "      <td>k</td>\n",
       "      <td>s</td>\n",
       "      <td>u</td>\n",
       "    </tr>\n",
       "    <tr>\n",
       "      <th>1</th>\n",
       "      <td>e</td>\n",
       "      <td>x</td>\n",
       "      <td>s</td>\n",
       "      <td>y</td>\n",
       "      <td>t</td>\n",
       "      <td>a</td>\n",
       "      <td>f</td>\n",
       "      <td>c</td>\n",
       "      <td>b</td>\n",
       "      <td>k</td>\n",
       "      <td>...</td>\n",
       "      <td>s</td>\n",
       "      <td>w</td>\n",
       "      <td>w</td>\n",
       "      <td>p</td>\n",
       "      <td>w</td>\n",
       "      <td>o</td>\n",
       "      <td>p</td>\n",
       "      <td>n</td>\n",
       "      <td>n</td>\n",
       "      <td>g</td>\n",
       "    </tr>\n",
       "    <tr>\n",
       "      <th>2</th>\n",
       "      <td>e</td>\n",
       "      <td>b</td>\n",
       "      <td>s</td>\n",
       "      <td>w</td>\n",
       "      <td>t</td>\n",
       "      <td>l</td>\n",
       "      <td>f</td>\n",
       "      <td>c</td>\n",
       "      <td>b</td>\n",
       "      <td>n</td>\n",
       "      <td>...</td>\n",
       "      <td>s</td>\n",
       "      <td>w</td>\n",
       "      <td>w</td>\n",
       "      <td>p</td>\n",
       "      <td>w</td>\n",
       "      <td>o</td>\n",
       "      <td>p</td>\n",
       "      <td>n</td>\n",
       "      <td>n</td>\n",
       "      <td>m</td>\n",
       "    </tr>\n",
       "    <tr>\n",
       "      <th>3</th>\n",
       "      <td>p</td>\n",
       "      <td>x</td>\n",
       "      <td>y</td>\n",
       "      <td>w</td>\n",
       "      <td>t</td>\n",
       "      <td>p</td>\n",
       "      <td>f</td>\n",
       "      <td>c</td>\n",
       "      <td>n</td>\n",
       "      <td>n</td>\n",
       "      <td>...</td>\n",
       "      <td>s</td>\n",
       "      <td>w</td>\n",
       "      <td>w</td>\n",
       "      <td>p</td>\n",
       "      <td>w</td>\n",
       "      <td>o</td>\n",
       "      <td>p</td>\n",
       "      <td>k</td>\n",
       "      <td>s</td>\n",
       "      <td>u</td>\n",
       "    </tr>\n",
       "    <tr>\n",
       "      <th>4</th>\n",
       "      <td>e</td>\n",
       "      <td>x</td>\n",
       "      <td>s</td>\n",
       "      <td>g</td>\n",
       "      <td>f</td>\n",
       "      <td>n</td>\n",
       "      <td>f</td>\n",
       "      <td>w</td>\n",
       "      <td>b</td>\n",
       "      <td>k</td>\n",
       "      <td>...</td>\n",
       "      <td>s</td>\n",
       "      <td>w</td>\n",
       "      <td>w</td>\n",
       "      <td>p</td>\n",
       "      <td>w</td>\n",
       "      <td>o</td>\n",
       "      <td>e</td>\n",
       "      <td>n</td>\n",
       "      <td>a</td>\n",
       "      <td>g</td>\n",
       "    </tr>\n",
       "    <tr>\n",
       "      <th>5</th>\n",
       "      <td>e</td>\n",
       "      <td>x</td>\n",
       "      <td>y</td>\n",
       "      <td>y</td>\n",
       "      <td>t</td>\n",
       "      <td>a</td>\n",
       "      <td>f</td>\n",
       "      <td>c</td>\n",
       "      <td>b</td>\n",
       "      <td>n</td>\n",
       "      <td>...</td>\n",
       "      <td>s</td>\n",
       "      <td>w</td>\n",
       "      <td>w</td>\n",
       "      <td>p</td>\n",
       "      <td>w</td>\n",
       "      <td>o</td>\n",
       "      <td>p</td>\n",
       "      <td>k</td>\n",
       "      <td>n</td>\n",
       "      <td>g</td>\n",
       "    </tr>\n",
       "    <tr>\n",
       "      <th>6</th>\n",
       "      <td>e</td>\n",
       "      <td>b</td>\n",
       "      <td>s</td>\n",
       "      <td>w</td>\n",
       "      <td>t</td>\n",
       "      <td>a</td>\n",
       "      <td>f</td>\n",
       "      <td>c</td>\n",
       "      <td>b</td>\n",
       "      <td>g</td>\n",
       "      <td>...</td>\n",
       "      <td>s</td>\n",
       "      <td>w</td>\n",
       "      <td>w</td>\n",
       "      <td>p</td>\n",
       "      <td>w</td>\n",
       "      <td>o</td>\n",
       "      <td>p</td>\n",
       "      <td>k</td>\n",
       "      <td>n</td>\n",
       "      <td>m</td>\n",
       "    </tr>\n",
       "    <tr>\n",
       "      <th>7</th>\n",
       "      <td>e</td>\n",
       "      <td>b</td>\n",
       "      <td>y</td>\n",
       "      <td>w</td>\n",
       "      <td>t</td>\n",
       "      <td>l</td>\n",
       "      <td>f</td>\n",
       "      <td>c</td>\n",
       "      <td>b</td>\n",
       "      <td>n</td>\n",
       "      <td>...</td>\n",
       "      <td>s</td>\n",
       "      <td>w</td>\n",
       "      <td>w</td>\n",
       "      <td>p</td>\n",
       "      <td>w</td>\n",
       "      <td>o</td>\n",
       "      <td>p</td>\n",
       "      <td>n</td>\n",
       "      <td>s</td>\n",
       "      <td>m</td>\n",
       "    </tr>\n",
       "    <tr>\n",
       "      <th>8</th>\n",
       "      <td>p</td>\n",
       "      <td>x</td>\n",
       "      <td>y</td>\n",
       "      <td>w</td>\n",
       "      <td>t</td>\n",
       "      <td>p</td>\n",
       "      <td>f</td>\n",
       "      <td>c</td>\n",
       "      <td>n</td>\n",
       "      <td>p</td>\n",
       "      <td>...</td>\n",
       "      <td>s</td>\n",
       "      <td>w</td>\n",
       "      <td>w</td>\n",
       "      <td>p</td>\n",
       "      <td>w</td>\n",
       "      <td>o</td>\n",
       "      <td>p</td>\n",
       "      <td>k</td>\n",
       "      <td>v</td>\n",
       "      <td>g</td>\n",
       "    </tr>\n",
       "    <tr>\n",
       "      <th>9</th>\n",
       "      <td>e</td>\n",
       "      <td>b</td>\n",
       "      <td>s</td>\n",
       "      <td>y</td>\n",
       "      <td>t</td>\n",
       "      <td>a</td>\n",
       "      <td>f</td>\n",
       "      <td>c</td>\n",
       "      <td>b</td>\n",
       "      <td>g</td>\n",
       "      <td>...</td>\n",
       "      <td>s</td>\n",
       "      <td>w</td>\n",
       "      <td>w</td>\n",
       "      <td>p</td>\n",
       "      <td>w</td>\n",
       "      <td>o</td>\n",
       "      <td>p</td>\n",
       "      <td>k</td>\n",
       "      <td>s</td>\n",
       "      <td>m</td>\n",
       "    </tr>\n",
       "  </tbody>\n",
       "</table>\n",
       "<p>10 rows × 23 columns</p>\n",
       "</div>"
      ],
      "text/plain": [
       "  class cap-shape cap-surface cap-color bruises odor gill-attachment  \\\n",
       "0     p         x           s         n       t    p               f   \n",
       "1     e         x           s         y       t    a               f   \n",
       "2     e         b           s         w       t    l               f   \n",
       "3     p         x           y         w       t    p               f   \n",
       "4     e         x           s         g       f    n               f   \n",
       "5     e         x           y         y       t    a               f   \n",
       "6     e         b           s         w       t    a               f   \n",
       "7     e         b           y         w       t    l               f   \n",
       "8     p         x           y         w       t    p               f   \n",
       "9     e         b           s         y       t    a               f   \n",
       "\n",
       "  gill-spacing gill-size gill-color  ... stalk-surface-below-ring  \\\n",
       "0            c         n          k  ...                        s   \n",
       "1            c         b          k  ...                        s   \n",
       "2            c         b          n  ...                        s   \n",
       "3            c         n          n  ...                        s   \n",
       "4            w         b          k  ...                        s   \n",
       "5            c         b          n  ...                        s   \n",
       "6            c         b          g  ...                        s   \n",
       "7            c         b          n  ...                        s   \n",
       "8            c         n          p  ...                        s   \n",
       "9            c         b          g  ...                        s   \n",
       "\n",
       "  stalk-color-above-ring stalk-color-below-ring veil-type veil-color  \\\n",
       "0                      w                      w         p          w   \n",
       "1                      w                      w         p          w   \n",
       "2                      w                      w         p          w   \n",
       "3                      w                      w         p          w   \n",
       "4                      w                      w         p          w   \n",
       "5                      w                      w         p          w   \n",
       "6                      w                      w         p          w   \n",
       "7                      w                      w         p          w   \n",
       "8                      w                      w         p          w   \n",
       "9                      w                      w         p          w   \n",
       "\n",
       "  ring-number ring-type spore-print-color population habitat  \n",
       "0           o         p                 k          s       u  \n",
       "1           o         p                 n          n       g  \n",
       "2           o         p                 n          n       m  \n",
       "3           o         p                 k          s       u  \n",
       "4           o         e                 n          a       g  \n",
       "5           o         p                 k          n       g  \n",
       "6           o         p                 k          n       m  \n",
       "7           o         p                 n          s       m  \n",
       "8           o         p                 k          v       g  \n",
       "9           o         p                 k          s       m  \n",
       "\n",
       "[10 rows x 23 columns]"
      ]
     },
     "execution_count": 2,
     "metadata": {},
     "output_type": "execute_result"
    }
   ],
   "source": [
    "link = \"https://raw.githubusercontent.com/maze340/pandas/main/mushrooms.csv\"\n",
    "df = pd.read_csv(link, na_values=['?'])\n",
    "df.head(10)"
   ]
  },
  {
   "cell_type": "markdown",
   "metadata": {
    "id": "6J4DRJAx7ZhJ"
   },
   "source": [
    "# **Exploratory data analysis**"
   ]
  },
  {
   "cell_type": "code",
   "execution_count": 3,
   "metadata": {
    "colab": {
     "base_uri": "https://localhost:8080/",
     "height": 0
    },
    "id": "WogpgyvM7bgI",
    "outputId": "81a42a24-dfd0-4878-c1f0-1ab512edc77f"
   },
   "outputs": [
    {
     "data": {
      "text/plain": [
       "(8124, 23)"
      ]
     },
     "execution_count": 3,
     "metadata": {},
     "output_type": "execute_result"
    }
   ],
   "source": [
    "df.shape"
   ]
  },
  {
   "cell_type": "markdown",
   "metadata": {
    "id": "I-Nogf7QETpc"
   },
   "source": [
    "We can see that there are 8124 instances and 23 attributes in the data set."
   ]
  },
  {
   "cell_type": "markdown",
   "metadata": {
    "id": "uf2HoeE_EYOy"
   },
   "source": [
    "# **View summary of dataset**"
   ]
  },
  {
   "cell_type": "code",
   "execution_count": 4,
   "metadata": {
    "colab": {
     "base_uri": "https://localhost:8080/",
     "height": 0
    },
    "id": "pmmV1yrlE5jK",
    "outputId": "000d5569-857a-4932-c219-6bcc422776ef"
   },
   "outputs": [
    {
     "name": "stdout",
     "output_type": "stream",
     "text": [
      "<class 'pandas.core.frame.DataFrame'>\n",
      "RangeIndex: 8124 entries, 0 to 8123\n",
      "Data columns (total 23 columns):\n",
      " #   Column                    Non-Null Count  Dtype \n",
      "---  ------                    --------------  ----- \n",
      " 0   class                     8124 non-null   object\n",
      " 1   cap-shape                 8124 non-null   object\n",
      " 2   cap-surface               8124 non-null   object\n",
      " 3   cap-color                 8124 non-null   object\n",
      " 4   bruises                   8124 non-null   object\n",
      " 5   odor                      8124 non-null   object\n",
      " 6   gill-attachment           8124 non-null   object\n",
      " 7   gill-spacing              8124 non-null   object\n",
      " 8   gill-size                 8124 non-null   object\n",
      " 9   gill-color                8124 non-null   object\n",
      " 10  stalk-shape               8124 non-null   object\n",
      " 11  stalk-root                5644 non-null   object\n",
      " 12  stalk-surface-above-ring  8124 non-null   object\n",
      " 13  stalk-surface-below-ring  8124 non-null   object\n",
      " 14  stalk-color-above-ring    8124 non-null   object\n",
      " 15  stalk-color-below-ring    8124 non-null   object\n",
      " 16  veil-type                 8124 non-null   object\n",
      " 17  veil-color                8124 non-null   object\n",
      " 18  ring-number               8124 non-null   object\n",
      " 19  ring-type                 8124 non-null   object\n",
      " 20  spore-print-color         8124 non-null   object\n",
      " 21  population                8124 non-null   object\n",
      " 22  habitat                   8124 non-null   object\n",
      "dtypes: object(23)\n",
      "memory usage: 1.4+ MB\n"
     ]
    }
   ],
   "source": [
    "df.info()"
   ]
  },
  {
   "cell_type": "markdown",
   "metadata": {
    "id": "6HsuDY_6FkMk"
   },
   "source": [
    "We can already make few observations here:\n",
    "\n",
    "* There are no numerical column (continuous values) there are only categorical columns so there is no need for normalization or discretization at the preprocessing step\n",
    "* Moreover, there are missing values only for the stalk-root column in the dataset. I will confirm this further.\n",
    "\n",
    "\n",
    "\n",
    "\n",
    "\n"
   ]
  },
  {
   "cell_type": "code",
   "execution_count": 5,
   "metadata": {
    "colab": {
     "base_uri": "https://localhost:8080/",
     "height": 0
    },
    "id": "KoBKdGDaF1I5",
    "outputId": "aac3178e-e07e-40b5-e463-d94d2a696403"
   },
   "outputs": [
    {
     "data": {
      "text/plain": [
       "class                        2\n",
       "cap-shape                    6\n",
       "cap-surface                  4\n",
       "cap-color                   10\n",
       "bruises                      2\n",
       "odor                         9\n",
       "gill-attachment              2\n",
       "gill-spacing                 2\n",
       "gill-size                    2\n",
       "gill-color                  12\n",
       "stalk-shape                  2\n",
       "stalk-root                   4\n",
       "stalk-surface-above-ring     4\n",
       "stalk-surface-below-ring     4\n",
       "stalk-color-above-ring       9\n",
       "stalk-color-below-ring       9\n",
       "veil-type                    1\n",
       "veil-color                   4\n",
       "ring-number                  3\n",
       "ring-type                    5\n",
       "spore-print-color            9\n",
       "population                   6\n",
       "habitat                      7\n",
       "dtype: int64"
      ]
     },
     "execution_count": 5,
     "metadata": {},
     "output_type": "execute_result"
    }
   ],
   "source": [
    "df.nunique()"
   ]
  },
  {
   "cell_type": "code",
   "execution_count": 6,
   "metadata": {
    "colab": {
     "base_uri": "https://localhost:8080/",
     "height": 0
    },
    "id": "bUUXc8ONHTsn",
    "outputId": "ff14b90a-a800-490a-8bf2-de8f71646f17"
   },
   "outputs": [
    {
     "name": "stdout",
     "output_type": "stream",
     "text": [
      "class ['p' 'e']\n",
      "cap-shape ['x' 'b' 's' 'f' 'k' 'c']\n",
      "cap-surface ['s' 'y' 'f' 'g']\n",
      "cap-color ['n' 'y' 'w' 'g' 'e' 'p' 'b' 'u' 'c' 'r']\n",
      "bruises ['t' 'f']\n",
      "odor ['p' 'a' 'l' 'n' 'f' 'c' 'y' 's' 'm']\n",
      "gill-attachment ['f' 'a']\n",
      "gill-spacing ['c' 'w']\n",
      "gill-size ['n' 'b']\n",
      "gill-color ['k' 'n' 'g' 'p' 'w' 'h' 'u' 'e' 'b' 'r' 'y' 'o']\n",
      "stalk-shape ['e' 't']\n",
      "stalk-root ['e' 'c' 'b' 'r' nan]\n",
      "stalk-surface-above-ring ['s' 'f' 'k' 'y']\n",
      "stalk-surface-below-ring ['s' 'f' 'y' 'k']\n",
      "stalk-color-above-ring ['w' 'g' 'p' 'n' 'b' 'e' 'o' 'c' 'y']\n",
      "stalk-color-below-ring ['w' 'p' 'g' 'b' 'n' 'e' 'y' 'o' 'c']\n",
      "veil-type ['p']\n",
      "veil-color ['w' 'n' 'o' 'y']\n",
      "ring-number ['o' 't' 'n']\n",
      "ring-type ['p' 'e' 'l' 'f' 'n']\n",
      "spore-print-color ['k' 'n' 'u' 'h' 'w' 'r' 'o' 'y' 'b']\n",
      "population ['s' 'n' 'a' 'v' 'y' 'c']\n",
      "habitat ['u' 'g' 'm' 'd' 'p' 'w' 'l']\n"
     ]
    }
   ],
   "source": [
    "for c in df.columns:    \n",
    "    print(df[c].name, df[c].unique())"
   ]
  },
  {
   "cell_type": "markdown",
   "metadata": {
    "id": "Z-0_afptIrQK"
   },
   "source": [
    "Now we can confirm that except for stalk-root column there is no missing values."
   ]
  },
  {
   "cell_type": "markdown",
   "metadata": {
    "id": "pFsT2xPluzcH"
   },
   "source": [
    "# **Preprocessing**\n"
   ]
  },
  {
   "cell_type": "markdown",
   "metadata": {
    "id": "Xc03Hi9OVUXd"
   },
   "source": [
    "Let's import libraries in order to make preprocessing"
   ]
  },
  {
   "cell_type": "code",
   "execution_count": 7,
   "metadata": {
    "id": "8kF9olXTzZww"
   },
   "outputs": [],
   "source": [
    "#?- function to import own github libraries\n",
    "import requests\n",
    "def importOwnLib(url):\n",
    "  filename = url.split('/')[-1]\n",
    "  code = requests.get(url).text\n",
    "  with open(filename, 'w') as f:\n",
    "    f.write(code)\n",
    "\n"
   ]
  },
  {
   "cell_type": "code",
   "execution_count": 8,
   "metadata": {
    "id": "yNVGG2ALVMmi"
   },
   "outputs": [],
   "source": [
    "import os\n",
    "\n",
    "importOwnLib(\"https://raw.githubusercontent.com/maze340/pandas/main/preprocessing.py\")\n",
    "from preprocessing import Preprocessing"
   ]
  },
  {
   "cell_type": "code",
   "execution_count": 9,
   "metadata": {
    "id": "fwBAapa2T4A9"
   },
   "outputs": [],
   "source": [
    "#Create backup directory for each attempts\n",
    "paths = [\"backup_1\", \"backup_2\", \"backup_3\"]\n",
    "for i, path in enumerate(paths): #?- enumerate lie un index avec sa valeure\n",
    "  if not os.path.exists(path):\n",
    "    os.makedirs(path)\n",
    "  paths[i] += '/' #?- modifie l'objet en loop\n",
    "  # paths += '/' #?- ne modifie pas l'objet en loop\n",
    "\n",
    "#We make 3 deeps copies of the dataframe for the 3 attempts\n",
    "df_1, df_2, df_3 = df.copy(deep=True), df.copy(deep=True), df.copy(deep=True)\n",
    "\n",
    "#We compute 3 differents preprocessing\n",
    "prepro_1 = Preprocessing(df_1, 'B', \"class\", \"mushroom_1\", False, 0, 2, paths[0])#attempt 1\n",
    "prepro_2 = Preprocessing(df_2, 'A', \"class\", \"mushroom_2\", False, 1, 3, paths[1])#attempt 2\n",
    "prepro_3 = Preprocessing(df_3, 'B', \"class\", \"mushroom_3\", False, 2, 4, paths[2])#attempt 3\n"
   ]
  },
  {
   "cell_type": "markdown",
   "metadata": {
    "id": "eiYeVQLSvAmT"
   },
   "source": [
    "Let's explain what we did in preprocessing:\n",
    "\n",
    "We have computed differents preprocessing for 3 attempts:\n",
    "- For the first attempt, \n",
    "  - we have replaced missing values depending on classlabel value (option B)\n",
    "  - we have computed an equal range discretization for 2 bins\n",
    "- For the second attempt, \n",
    "  - we have replaced missing values depending only corresponding column values (option A)  \n",
    "  - we have computed an equal frequency discretization for 3 bins\n",
    "- For the third attempt, \n",
    "  - we have replaced missing values depending on classlabel value (option B)\n",
    "  - we have computed a based entropy discretization for 2 bins\n",
    "  \n",
    "- and in the last step, we have encoded a copy of the data frame in order to use it for building model"
   ]
  },
  {
   "cell_type": "code",
   "execution_count": 10,
   "metadata": {
    "colab": {
     "base_uri": "https://localhost:8080/",
     "height": 508
    },
    "id": "QtNYdOEFzP7j",
    "outputId": "9b3881e8-5eff-4058-883d-cabbb2b02464"
   },
   "outputs": [
    {
     "data": {
      "text/html": [
       "<div>\n",
       "<style scoped>\n",
       "    .dataframe tbody tr th:only-of-type {\n",
       "        vertical-align: middle;\n",
       "    }\n",
       "\n",
       "    .dataframe tbody tr th {\n",
       "        vertical-align: top;\n",
       "    }\n",
       "\n",
       "    .dataframe thead th {\n",
       "        text-align: right;\n",
       "    }\n",
       "</style>\n",
       "<table border=\"1\" class=\"dataframe\">\n",
       "  <thead>\n",
       "    <tr style=\"text-align: right;\">\n",
       "      <th></th>\n",
       "      <th>class</th>\n",
       "      <th>cap-shape</th>\n",
       "      <th>cap-surface</th>\n",
       "      <th>cap-color</th>\n",
       "      <th>bruises</th>\n",
       "      <th>odor</th>\n",
       "      <th>gill-attachment</th>\n",
       "      <th>gill-spacing</th>\n",
       "      <th>gill-size</th>\n",
       "      <th>gill-color</th>\n",
       "      <th>...</th>\n",
       "      <th>stalk-surface-below-ring</th>\n",
       "      <th>stalk-color-above-ring</th>\n",
       "      <th>stalk-color-below-ring</th>\n",
       "      <th>veil-type</th>\n",
       "      <th>veil-color</th>\n",
       "      <th>ring-number</th>\n",
       "      <th>ring-type</th>\n",
       "      <th>spore-print-color</th>\n",
       "      <th>population</th>\n",
       "      <th>habitat</th>\n",
       "    </tr>\n",
       "  </thead>\n",
       "  <tbody>\n",
       "    <tr>\n",
       "      <th>0</th>\n",
       "      <td>1</td>\n",
       "      <td>5</td>\n",
       "      <td>2</td>\n",
       "      <td>4</td>\n",
       "      <td>1</td>\n",
       "      <td>6</td>\n",
       "      <td>1</td>\n",
       "      <td>0</td>\n",
       "      <td>1</td>\n",
       "      <td>4</td>\n",
       "      <td>...</td>\n",
       "      <td>2</td>\n",
       "      <td>7</td>\n",
       "      <td>7</td>\n",
       "      <td>0</td>\n",
       "      <td>2</td>\n",
       "      <td>1</td>\n",
       "      <td>4</td>\n",
       "      <td>2</td>\n",
       "      <td>3</td>\n",
       "      <td>5</td>\n",
       "    </tr>\n",
       "    <tr>\n",
       "      <th>1</th>\n",
       "      <td>0</td>\n",
       "      <td>5</td>\n",
       "      <td>2</td>\n",
       "      <td>9</td>\n",
       "      <td>1</td>\n",
       "      <td>0</td>\n",
       "      <td>1</td>\n",
       "      <td>0</td>\n",
       "      <td>0</td>\n",
       "      <td>4</td>\n",
       "      <td>...</td>\n",
       "      <td>2</td>\n",
       "      <td>7</td>\n",
       "      <td>7</td>\n",
       "      <td>0</td>\n",
       "      <td>2</td>\n",
       "      <td>1</td>\n",
       "      <td>4</td>\n",
       "      <td>3</td>\n",
       "      <td>2</td>\n",
       "      <td>1</td>\n",
       "    </tr>\n",
       "    <tr>\n",
       "      <th>2</th>\n",
       "      <td>0</td>\n",
       "      <td>0</td>\n",
       "      <td>2</td>\n",
       "      <td>8</td>\n",
       "      <td>1</td>\n",
       "      <td>3</td>\n",
       "      <td>1</td>\n",
       "      <td>0</td>\n",
       "      <td>0</td>\n",
       "      <td>5</td>\n",
       "      <td>...</td>\n",
       "      <td>2</td>\n",
       "      <td>7</td>\n",
       "      <td>7</td>\n",
       "      <td>0</td>\n",
       "      <td>2</td>\n",
       "      <td>1</td>\n",
       "      <td>4</td>\n",
       "      <td>3</td>\n",
       "      <td>2</td>\n",
       "      <td>3</td>\n",
       "    </tr>\n",
       "    <tr>\n",
       "      <th>3</th>\n",
       "      <td>1</td>\n",
       "      <td>5</td>\n",
       "      <td>3</td>\n",
       "      <td>8</td>\n",
       "      <td>1</td>\n",
       "      <td>6</td>\n",
       "      <td>1</td>\n",
       "      <td>0</td>\n",
       "      <td>1</td>\n",
       "      <td>5</td>\n",
       "      <td>...</td>\n",
       "      <td>2</td>\n",
       "      <td>7</td>\n",
       "      <td>7</td>\n",
       "      <td>0</td>\n",
       "      <td>2</td>\n",
       "      <td>1</td>\n",
       "      <td>4</td>\n",
       "      <td>2</td>\n",
       "      <td>3</td>\n",
       "      <td>5</td>\n",
       "    </tr>\n",
       "    <tr>\n",
       "      <th>4</th>\n",
       "      <td>0</td>\n",
       "      <td>5</td>\n",
       "      <td>2</td>\n",
       "      <td>3</td>\n",
       "      <td>0</td>\n",
       "      <td>5</td>\n",
       "      <td>1</td>\n",
       "      <td>1</td>\n",
       "      <td>0</td>\n",
       "      <td>4</td>\n",
       "      <td>...</td>\n",
       "      <td>2</td>\n",
       "      <td>7</td>\n",
       "      <td>7</td>\n",
       "      <td>0</td>\n",
       "      <td>2</td>\n",
       "      <td>1</td>\n",
       "      <td>0</td>\n",
       "      <td>3</td>\n",
       "      <td>0</td>\n",
       "      <td>1</td>\n",
       "    </tr>\n",
       "    <tr>\n",
       "      <th>5</th>\n",
       "      <td>0</td>\n",
       "      <td>5</td>\n",
       "      <td>3</td>\n",
       "      <td>9</td>\n",
       "      <td>1</td>\n",
       "      <td>0</td>\n",
       "      <td>1</td>\n",
       "      <td>0</td>\n",
       "      <td>0</td>\n",
       "      <td>5</td>\n",
       "      <td>...</td>\n",
       "      <td>2</td>\n",
       "      <td>7</td>\n",
       "      <td>7</td>\n",
       "      <td>0</td>\n",
       "      <td>2</td>\n",
       "      <td>1</td>\n",
       "      <td>4</td>\n",
       "      <td>2</td>\n",
       "      <td>2</td>\n",
       "      <td>1</td>\n",
       "    </tr>\n",
       "    <tr>\n",
       "      <th>6</th>\n",
       "      <td>0</td>\n",
       "      <td>0</td>\n",
       "      <td>2</td>\n",
       "      <td>8</td>\n",
       "      <td>1</td>\n",
       "      <td>0</td>\n",
       "      <td>1</td>\n",
       "      <td>0</td>\n",
       "      <td>0</td>\n",
       "      <td>2</td>\n",
       "      <td>...</td>\n",
       "      <td>2</td>\n",
       "      <td>7</td>\n",
       "      <td>7</td>\n",
       "      <td>0</td>\n",
       "      <td>2</td>\n",
       "      <td>1</td>\n",
       "      <td>4</td>\n",
       "      <td>2</td>\n",
       "      <td>2</td>\n",
       "      <td>3</td>\n",
       "    </tr>\n",
       "    <tr>\n",
       "      <th>7</th>\n",
       "      <td>0</td>\n",
       "      <td>0</td>\n",
       "      <td>3</td>\n",
       "      <td>8</td>\n",
       "      <td>1</td>\n",
       "      <td>3</td>\n",
       "      <td>1</td>\n",
       "      <td>0</td>\n",
       "      <td>0</td>\n",
       "      <td>5</td>\n",
       "      <td>...</td>\n",
       "      <td>2</td>\n",
       "      <td>7</td>\n",
       "      <td>7</td>\n",
       "      <td>0</td>\n",
       "      <td>2</td>\n",
       "      <td>1</td>\n",
       "      <td>4</td>\n",
       "      <td>3</td>\n",
       "      <td>3</td>\n",
       "      <td>3</td>\n",
       "    </tr>\n",
       "    <tr>\n",
       "      <th>8</th>\n",
       "      <td>1</td>\n",
       "      <td>5</td>\n",
       "      <td>3</td>\n",
       "      <td>8</td>\n",
       "      <td>1</td>\n",
       "      <td>6</td>\n",
       "      <td>1</td>\n",
       "      <td>0</td>\n",
       "      <td>1</td>\n",
       "      <td>7</td>\n",
       "      <td>...</td>\n",
       "      <td>2</td>\n",
       "      <td>7</td>\n",
       "      <td>7</td>\n",
       "      <td>0</td>\n",
       "      <td>2</td>\n",
       "      <td>1</td>\n",
       "      <td>4</td>\n",
       "      <td>2</td>\n",
       "      <td>4</td>\n",
       "      <td>1</td>\n",
       "    </tr>\n",
       "    <tr>\n",
       "      <th>9</th>\n",
       "      <td>0</td>\n",
       "      <td>0</td>\n",
       "      <td>2</td>\n",
       "      <td>9</td>\n",
       "      <td>1</td>\n",
       "      <td>0</td>\n",
       "      <td>1</td>\n",
       "      <td>0</td>\n",
       "      <td>0</td>\n",
       "      <td>2</td>\n",
       "      <td>...</td>\n",
       "      <td>2</td>\n",
       "      <td>7</td>\n",
       "      <td>7</td>\n",
       "      <td>0</td>\n",
       "      <td>2</td>\n",
       "      <td>1</td>\n",
       "      <td>4</td>\n",
       "      <td>2</td>\n",
       "      <td>3</td>\n",
       "      <td>3</td>\n",
       "    </tr>\n",
       "  </tbody>\n",
       "</table>\n",
       "<p>10 rows × 23 columns</p>\n",
       "</div>"
      ],
      "text/plain": [
       "   class  cap-shape  cap-surface  cap-color  bruises  odor  gill-attachment  \\\n",
       "0      1          5            2          4        1     6                1   \n",
       "1      0          5            2          9        1     0                1   \n",
       "2      0          0            2          8        1     3                1   \n",
       "3      1          5            3          8        1     6                1   \n",
       "4      0          5            2          3        0     5                1   \n",
       "5      0          5            3          9        1     0                1   \n",
       "6      0          0            2          8        1     0                1   \n",
       "7      0          0            3          8        1     3                1   \n",
       "8      1          5            3          8        1     6                1   \n",
       "9      0          0            2          9        1     0                1   \n",
       "\n",
       "   gill-spacing  gill-size  gill-color  ...  stalk-surface-below-ring  \\\n",
       "0             0          1           4  ...                         2   \n",
       "1             0          0           4  ...                         2   \n",
       "2             0          0           5  ...                         2   \n",
       "3             0          1           5  ...                         2   \n",
       "4             1          0           4  ...                         2   \n",
       "5             0          0           5  ...                         2   \n",
       "6             0          0           2  ...                         2   \n",
       "7             0          0           5  ...                         2   \n",
       "8             0          1           7  ...                         2   \n",
       "9             0          0           2  ...                         2   \n",
       "\n",
       "   stalk-color-above-ring  stalk-color-below-ring  veil-type  veil-color  \\\n",
       "0                       7                       7          0           2   \n",
       "1                       7                       7          0           2   \n",
       "2                       7                       7          0           2   \n",
       "3                       7                       7          0           2   \n",
       "4                       7                       7          0           2   \n",
       "5                       7                       7          0           2   \n",
       "6                       7                       7          0           2   \n",
       "7                       7                       7          0           2   \n",
       "8                       7                       7          0           2   \n",
       "9                       7                       7          0           2   \n",
       "\n",
       "   ring-number  ring-type  spore-print-color  population  habitat  \n",
       "0            1          4                  2           3        5  \n",
       "1            1          4                  3           2        1  \n",
       "2            1          4                  3           2        3  \n",
       "3            1          4                  2           3        5  \n",
       "4            1          0                  3           0        1  \n",
       "5            1          4                  2           2        1  \n",
       "6            1          4                  2           2        3  \n",
       "7            1          4                  3           3        3  \n",
       "8            1          4                  2           4        1  \n",
       "9            1          4                  2           3        3  \n",
       "\n",
       "[10 rows x 23 columns]"
      ]
     },
     "execution_count": 10,
     "metadata": {},
     "output_type": "execute_result"
    }
   ],
   "source": [
    "prepro_1.encoded_df.head(10)"
   ]
  },
  {
   "cell_type": "markdown",
   "metadata": {
    "id": "25TjKe2NzsGp"
   },
   "source": [
    "Here the encoded version data frame"
   ]
  },
  {
   "cell_type": "code",
   "execution_count": 11,
   "metadata": {
    "colab": {
     "base_uri": "https://localhost:8080/",
     "height": 0
    },
    "id": "r1M6LXtxaNKb",
    "outputId": "9b914f74-0d43-4cba-fcb1-7358e3de7583"
   },
   "outputs": [
    {
     "name": "stdout",
     "output_type": "stream",
     "text": [
      "Number of missing values for the original dataframe :  2480\n",
      "Number of missing values for dataframe of attempt 1:  0\n",
      "Number of missing values for dataframe of attempt 2:  0\n",
      "Number of missing values for dataframe of attempt 3:  0\n"
     ]
    }
   ],
   "source": [
    "print(\"Number of missing values for the original dataframe : \", df.isna().sum().sum())\n",
    "print(\"Number of missing values for dataframe of attempt 1: \", df_1.isna().sum().sum())\n",
    "print(\"Number of missing values for dataframe of attempt 2: \", df_2.isna().sum().sum())\n",
    "print(\"Number of missing values for dataframe of attempt 3: \", df_3.isna().sum().sum())"
   ]
  },
  {
   "cell_type": "markdown",
   "metadata": {
    "id": "iIK22ug0dP9c"
   },
   "source": [
    "# **Split data into separate training and test set**"
   ]
  },
  {
   "cell_type": "code",
   "execution_count": 12,
   "metadata": {
    "colab": {
     "base_uri": "https://localhost:8080/",
     "height": 0
    },
    "id": "q-N_Ptbjz8gG",
    "outputId": "d74cd0ef-6eb9-44b9-e31d-092a7148ded9"
   },
   "outputs": [
    {
     "name": "stdout",
     "output_type": "stream",
     "text": [
      "For attempt 1: train set contains  7311  samples,  test set size contain  813  samples\n",
      "For attempt 2: train set contains  6093  samples,  test set size contain  2031  samples\n",
      "For attempt 3: train set contains  4874  samples,  test set size contain  3250  samples\n"
     ]
    }
   ],
   "source": [
    "def splitData(df, train_size):\n",
    "  \"\"\"\n",
    "  :param df: data frame\n",
    "  :param train_size: float value in [0, 1] represent the proportion of the dataset to include in the train split\n",
    "  :returns feature train set, feature test set, target train set, target test set\n",
    "  \"\"\"\n",
    "  train, test = train_test_split(df, random_state=0, train_size=train_size)\n",
    "  return train, test\n",
    "\n",
    "train_1, test_1 = splitData(df_1, 0.90)\n",
    "train_2, test_2 = splitData(df_2, 0.75)\n",
    "train_3, test_3 = splitData(df_3, 0.60)\n",
    "\n",
    "print(\"For attempt 1: train set contains \", len(train_1), \" samples,\", \" test set size contain \", len(test_1), \" samples\")\n",
    "print(\"For attempt 2: train set contains \", len(train_2), \" samples,\", \" test set size contain \", len(test_2), \" samples\")\n",
    "print(\"For attempt 3: train set contains \", len(train_3), \" samples,\", \" test set size contain \", len(test_3), \" samples\")\n"
   ]
  },
  {
   "cell_type": "markdown",
   "metadata": {
    "id": "f-r5bdT4xuOe"
   },
   "source": [
    "# **Building Models**"
   ]
  },
  {
   "cell_type": "markdown",
   "metadata": {
    "id": "F9YkhKbY3yYv"
   },
   "source": [
    "We import libraries for building models"
   ]
  },
  {
   "cell_type": "code",
   "execution_count": 13,
   "metadata": {
    "id": "jwtNvuS6xyWX"
   },
   "outputs": [],
   "source": [
    "importOwnLib(\"https://raw.githubusercontent.com/maze340/pandas/main/naivebayes.py\")\n",
    "importOwnLib(\"https://raw.githubusercontent.com/maze340/pandas/main/treedecision.py\")\n",
    "from naivebayes import NaiveBayesClassifier\n",
    "from treedecision import TreeDecisionClassifier\n"
   ]
  },
  {
   "cell_type": "code",
   "execution_count": 14,
   "metadata": {
    "id": "qL13D_eb4HUI"
   },
   "outputs": [],
   "source": [
    "#Attempt 1\n",
    "nb_own_1 = NaiveBayesClassifier(train_1, \"class\", prepro_1.enc_dec_dict, builtin=False, dir_save=paths[0])\n",
    "nb_builtin_1 = NaiveBayesClassifier(train_1, \"class\", prepro_1.enc_dec_dict, builtin=True, dir_save=paths[0])\n",
    "tree_own_1 = TreeDecisionClassifier(train_1, \"class\", prepro_1.enc_dec_dict, pep=False, max_depth= None, min_samples_leaf=1, builtin=False, dir_save=paths[0])\n",
    "tree_builtin_1 = TreeDecisionClassifier(train_1, \"class\", prepro_1.enc_dec_dict, pep=False, max_depth= None, min_samples_leaf=1, builtin=True, dir_save=paths[0])\n",
    "#Attempt 2\n",
    "nb_own_2 = NaiveBayesClassifier(train_2, \"class\", prepro_2.enc_dec_dict, builtin=False, dir_save=paths[1])\n",
    "nb_builtin_2 = NaiveBayesClassifier(train_2, \"class\", prepro_2.enc_dec_dict, builtin=True, dir_save=paths[1])\n",
    "tree_own_2 = TreeDecisionClassifier(train_2, \"class\", prepro_2.enc_dec_dict, pep=False, max_depth= None, min_samples_leaf=0.025, builtin=False, dir_save=paths[1])\n",
    "tree_builtin_2 = TreeDecisionClassifier(train_2, \"class\", prepro_2.enc_dec_dict, pep=False, max_depth= None, min_samples_leaf=0.025, builtin=True, dir_save=paths[1])\n",
    "#Attempt 3\n",
    "nb_own_3 = NaiveBayesClassifier(train_3, \"class\", prepro_3.enc_dec_dict, builtin=False, dir_save=paths[2])\n",
    "nb_builtin_3 = NaiveBayesClassifier(train_3, \"class\", prepro_3.enc_dec_dict, builtin=True, dir_save=paths[2])\n",
    "tree_own_3 = TreeDecisionClassifier(train_3, \"class\", prepro_3.enc_dec_dict, pep=True, max_depth= None, min_samples_leaf=1, builtin=False, dir_save=paths[2])\n",
    "tree_builtin_3 = TreeDecisionClassifier(train_3, \"class\", prepro_3.enc_dec_dict, pep=True, max_depth= None, min_samples_leaf=1, builtin=True, dir_save=paths[2])\n"
   ]
  },
  {
   "cell_type": "markdown",
   "metadata": {
    "id": "VA7VX9vWcM3x"
   },
   "source": [
    "# **Evaluation**"
   ]
  },
  {
   "cell_type": "markdown",
   "metadata": {
    "id": "e--ttFaNc0ia"
   },
   "source": [
    "We import library"
   ]
  },
  {
   "cell_type": "code",
   "execution_count": 15,
   "metadata": {
    "id": "dSpAa5dWb_kH"
   },
   "outputs": [],
   "source": [
    "importOwnLib(\"https://raw.githubusercontent.com/maze340/pandas/main/evaluation.py\")\n",
    "from evaluation import Evaluation"
   ]
  },
  {
   "cell_type": "markdown",
   "metadata": {
    "id": "v4bV9g08eqJi"
   },
   "source": [
    "### Evaluation for attempt 1 "
   ]
  },
  {
   "cell_type": "markdown",
   "metadata": {
    "id": "clSQC3dcyhRB"
   },
   "source": [
    "### **Confusion Matrix and Classification Report**\n",
    "The confusion matrix is a tool to summarize the performance of a classification algorithm. It indicates,from left to right:\n",
    "* In the first row, the number of TP (True Positive) and FP (False Positive)\n",
    "* In the second row, the number of FN (False Negative) and TN (True Negative)\n",
    "\n",
    "The classification report is another way to evaluate the performance of the classification model. Shows accuracy, recall, f1 and support scores for the model."
   ]
  },
  {
   "cell_type": "code",
   "execution_count": 16,
   "metadata": {
    "colab": {
     "base_uri": "https://localhost:8080/"
    },
    "id": "7koNYzgRdEyG",
    "outputId": "2bd737ac-e0f1-4fa3-8554-35040fc492a3"
   },
   "outputs": [
    {
     "name": "stdout",
     "output_type": "stream",
     "text": [
      "---+++ Naive Bayes Model +++---\n",
      "+++Own Model+++\n",
      "Train Evaluation\n",
      "[[3758   26]\n",
      " [ 296 3231]]\n",
      "              precision    recall  f1-score   support\n",
      "\n",
      "           e       0.93      0.99      0.96      3784\n",
      "           p       0.99      0.92      0.95      3527\n",
      "\n",
      "    accuracy                           0.96      7311\n",
      "   macro avg       0.96      0.95      0.96      7311\n",
      "weighted avg       0.96      0.96      0.96      7311\n",
      "\n",
      "Test Evaluation\n",
      "[[422   2]\n",
      " [ 31 358]]\n",
      "              precision    recall  f1-score   support\n",
      "\n",
      "           e       0.93      1.00      0.96       424\n",
      "           p       0.99      0.92      0.96       389\n",
      "\n",
      "    accuracy                           0.96       813\n",
      "   macro avg       0.96      0.96      0.96       813\n",
      "weighted avg       0.96      0.96      0.96       813\n",
      "\n",
      "Major Evaluation\n",
      "[[  0 424]\n",
      " [  0 389]]\n",
      "              precision    recall  f1-score   support\n",
      "\n",
      "           e       0.00      0.00      0.00       424\n",
      "           p       0.48      1.00      0.65       389\n",
      "\n",
      "    accuracy                           0.48       813\n",
      "   macro avg       0.24      0.50      0.32       813\n",
      "weighted avg       0.23      0.48      0.31       813\n",
      "\n",
      "+++Builtin Model+++\n",
      "Train Evaluation\n",
      "[[3758   26]\n",
      " [ 296 3231]]\n",
      "              precision    recall  f1-score   support\n",
      "\n",
      "           e       0.93      0.99      0.96      3784\n",
      "           p       0.99      0.92      0.95      3527\n",
      "\n",
      "    accuracy                           0.96      7311\n",
      "   macro avg       0.96      0.95      0.96      7311\n",
      "weighted avg       0.96      0.96      0.96      7311\n",
      "\n",
      "Test Evaluation\n",
      "[[422   2]\n",
      " [ 31 358]]\n",
      "              precision    recall  f1-score   support\n",
      "\n",
      "           e       0.93      1.00      0.96       424\n",
      "           p       0.99      0.92      0.96       389\n",
      "\n",
      "    accuracy                           0.96       813\n",
      "   macro avg       0.96      0.96      0.96       813\n",
      "weighted avg       0.96      0.96      0.96       813\n",
      "\n",
      "Major Evaluation\n",
      "[[  0 424]\n",
      " [  0 389]]\n",
      "              precision    recall  f1-score   support\n",
      "\n",
      "           e       0.00      0.00      0.00       424\n",
      "           p       0.48      1.00      0.65       389\n",
      "\n",
      "    accuracy                           0.48       813\n",
      "   macro avg       0.24      0.50      0.32       813\n",
      "weighted avg       0.23      0.48      0.31       813\n",
      "\n",
      "---+++ Tree Decision Model +++---\n",
      "+++Own Model+++\n",
      "Train Evaluation\n",
      "[[3784    0]\n",
      " [   0 3527]]\n",
      "              precision    recall  f1-score   support\n",
      "\n",
      "           e       1.00      1.00      1.00      3784\n",
      "           p       1.00      1.00      1.00      3527\n",
      "\n",
      "    accuracy                           1.00      7311\n",
      "   macro avg       1.00      1.00      1.00      7311\n",
      "weighted avg       1.00      1.00      1.00      7311\n",
      "\n",
      "Test Evaluation\n",
      "[[424   0]\n",
      " [  0 389]]\n",
      "              precision    recall  f1-score   support\n",
      "\n",
      "           e       1.00      1.00      1.00       424\n",
      "           p       1.00      1.00      1.00       389\n",
      "\n",
      "    accuracy                           1.00       813\n",
      "   macro avg       1.00      1.00      1.00       813\n",
      "weighted avg       1.00      1.00      1.00       813\n",
      "\n",
      "Major Evaluation\n",
      "[[  0 424]\n",
      " [  0 389]]\n",
      "              precision    recall  f1-score   support\n",
      "\n",
      "           e       0.00      0.00      0.00       424\n",
      "           p       0.48      1.00      0.65       389\n",
      "\n",
      "    accuracy                           0.48       813\n",
      "   macro avg       0.24      0.50      0.32       813\n",
      "weighted avg       0.23      0.48      0.31       813\n",
      "\n",
      "+++Builtin Model+++\n",
      "Train Evaluation\n",
      "[[3784    0]\n",
      " [   0 3527]]\n",
      "              precision    recall  f1-score   support\n",
      "\n",
      "           e       1.00      1.00      1.00      3784\n",
      "           p       1.00      1.00      1.00      3527\n",
      "\n",
      "    accuracy                           1.00      7311\n",
      "   macro avg       1.00      1.00      1.00      7311\n",
      "weighted avg       1.00      1.00      1.00      7311\n",
      "\n",
      "Test Evaluation\n",
      "[[424   0]\n",
      " [  0 389]]\n",
      "              precision    recall  f1-score   support\n",
      "\n",
      "           e       1.00      1.00      1.00       424\n",
      "           p       1.00      1.00      1.00       389\n",
      "\n",
      "    accuracy                           1.00       813\n",
      "   macro avg       1.00      1.00      1.00       813\n",
      "weighted avg       1.00      1.00      1.00       813\n",
      "\n",
      "Major Evaluation\n",
      "[[  0 424]\n",
      " [  0 389]]\n",
      "              precision    recall  f1-score   support\n",
      "\n",
      "           e       0.00      0.00      0.00       424\n",
      "           p       0.48      1.00      0.65       389\n",
      "\n",
      "    accuracy                           0.48       813\n",
      "   macro avg       0.24      0.50      0.32       813\n",
      "weighted avg       0.23      0.48      0.31       813\n",
      "\n"
     ]
    }
   ],
   "source": [
    "#Evaluation for Naive Bayes Model\n",
    "print(\"---+++ Naive Bayes Model +++---\")\n",
    "print(\"+++Own Model+++\")\n",
    "eval_nb_own = Evaluation(\"class\", train_1, test_1, nb_own_1, paths[0])\n",
    "eval_nb_own.script()\n",
    "print(\"+++Builtin Model+++\")\n",
    "eval_nb_builtin = Evaluation(\"class\", train_1, test_1, nb_builtin_1, paths[0])\n",
    "eval_nb_builtin.script()\n",
    "\n",
    "#Evaluation for Tree Decision Model\n",
    "print(\"---+++ Tree Decision Model +++---\")\n",
    "print(\"+++Own Model+++\")\n",
    "eval_tree_own = Evaluation(\"class\", train_1, test_1, tree_own_1, paths[0])\n",
    "eval_tree_own.script()\n",
    "print(\"+++Builtin Model+++\")\n",
    "eval_tree_builtin = Evaluation(\"class\", train_1, test_1, tree_builtin_1, paths[0])\n",
    "eval_tree_builtin.script()"
   ]
  },
  {
   "cell_type": "markdown",
   "metadata": {
    "id": "qK7V0Ihxx-cj"
   },
   "source": [
    "### ROC Curve"
   ]
  },
  {
   "cell_type": "markdown",
   "metadata": {
    "id": "_Bu2eF0jtjf7"
   },
   "source": [
    "Another tool for visual comparison of classification models is the ROC curve.\n",
    "In the ROC curve, we will focus on the the trade-off between the true positive\n",
    "rate and the false positive rate of a single point. This will give us the overall performance of the ROC curve composed of TPR and FPR at different threshold levels. \n",
    "The closer to the diagonal line, the less accurate is the model"
   ]
  },
  {
   "cell_type": "code",
   "execution_count": 17,
   "metadata": {
    "colab": {
     "base_uri": "https://localhost:8080/",
     "height": 1000
    },
    "id": "sxhfYqYtwW48",
    "outputId": "600b2e06-7a95-4521-80ad-bc33c70df475"
   },
   "outputs": [
    {
     "name": "stdout",
     "output_type": "stream",
     "text": [
      "---+++ Naive Bayes Model +++---\n",
      "+++Own Model+++\n"
     ]
    },
    {
     "data": {
      "image/png": "[encoded data removed]",
      "text/plain": [
       "<Figure size 432x288 with 1 Axes>"
      ]
     },
     "metadata": {
      "needs_background": "light"
     },
     "output_type": "display_data"
    },
    {
     "name": "stdout",
     "output_type": "stream",
     "text": [
      "+++Builtin Model+++\n"
     ]
    },
    {
     "data": {
      "image/png": "[encoded data removed]",
      "text/plain": [
       "<Figure size 432x288 with 1 Axes>"
      ]
     },
     "metadata": {
      "needs_background": "light"
     },
     "output_type": "display_data"
    },
    {
     "name": "stdout",
     "output_type": "stream",
     "text": [
      "---+++ Tree Decision Model +++---\n",
      "+++Own Model+++\n"
     ]
    },
    {
     "data": {
      "image/png": "[encoded data removed]",
      "text/plain": [
       "<Figure size 432x288 with 1 Axes>"
      ]
     },
     "metadata": {
      "needs_background": "light"
     },
     "output_type": "display_data"
    },
    {
     "name": "stdout",
     "output_type": "stream",
     "text": [
      "+++Builtin Model+++\n"
     ]
    },
    {
     "data": {
      "image/png": "[encoded data removed]",
      "text/plain": [
       "<Figure size 432x288 with 1 Axes>"
      ]
     },
     "metadata": {
      "needs_background": "light"
     },
     "output_type": "display_data"
    }
   ],
   "source": [
    "#ROC Curve for Naive Bayes Model\n",
    "print(\"---+++ Naive Bayes Model +++---\")\n",
    "print(\"+++Own Model+++\")\n",
    "eval_nb_own.drawROCCurve('p')\n",
    "print(\"+++Builtin Model+++\")\n",
    "eval_nb_builtin.drawROCCurve('p')\n",
    "\n",
    "#ROC Curve for Tree Decision Model\n",
    "print(\"---+++ Tree Decision Model +++---\")\n",
    "print(\"+++Own Model+++\")\n",
    "eval_tree_own.drawROCCurve('p')\n",
    "print(\"+++Builtin Model+++\")\n",
    "eval_tree_builtin.drawROCCurve('p')"
   ]
  },
  {
   "cell_type": "markdown",
   "metadata": {
    "id": "1ib7rYkX5HHf"
   },
   "source": [
    "### AUC Score"
   ]
  },
  {
   "cell_type": "markdown",
   "metadata": {
    "id": "J65wBXPzuLvd"
   },
   "source": [
    "The area under the ROC curve (AUC: Area UnderCurve) is a measure of the accuracy of the model. It is a technique to compare the performance of classifiers. In this technique, we measure the area under the curve (AUC). A model with perfect accuracy will have an area of 1.0, while a purely random classifier will have a ROC AUC equal to 0.5.\n"
   ]
  },
  {
   "cell_type": "code",
   "execution_count": 19,
   "metadata": {
    "colab": {
     "base_uri": "https://localhost:8080/",
     "height": 0
    },
    "id": "dtfp5z615PIr",
    "outputId": "39067da0-1ffa-4cf7-b90f-01af0233b70d"
   },
   "outputs": [
    {
     "name": "stdout",
     "output_type": "stream",
     "text": [
      "---+++ Naive Bayes Model +++---\n",
      "+++Own Model+++\n",
      "0.9983811902798662\n",
      "ROC AUC : None\n",
      "+++Builtin Model+++\n",
      "0.9983811902798662\n",
      "ROC AUC : None\n",
      "---+++ Tree Decision Model +++---\n",
      "+++Own Model+++\n",
      "1.0\n",
      "ROC AUC : None\n",
      "+++Builtin Model+++\n",
      "1.0\n",
      "ROC AUC : None\n"
     ]
    }
   ],
   "source": [
    "#AUC Score for Naive Bayes Model\n",
    "print(\"---+++ Naive Bayes Model +++---\")\n",
    "print(\"+++Own Model+++\")\n",
    "ROC_AUC = eval_nb_own.getAUC('p')\n",
    "print('ROC AUC : {0}'.format(ROC_AUC))\n",
    "\n",
    "print(\"+++Builtin Model+++\")\n",
    "ROC_AUC = eval_nb_builtin.getAUC('p')\n",
    "print('ROC AUC : {0}'.format(ROC_AUC))\n",
    "\n",
    "#ROC Curve for Tree Decision Model\n",
    "print(\"---+++ Tree Decision Model +++---\")\n",
    "print(\"+++Own Model+++\")\n",
    "ROC_AUC = eval_tree_own.getAUC('p')\n",
    "print('ROC AUC : {0}'.format(ROC_AUC))\n",
    "\n",
    "print(\"+++Builtin Model+++\")\n",
    "ROC_AUC = eval_tree_builtin.getAUC('p')\n",
    "print('ROC AUC : {0}'.format(ROC_AUC))"
   ]
  },
  {
   "cell_type": "markdown",
   "metadata": {
    "id": "dfuRnSyAvCE3"
   },
   "source": [
    "### **Interpretation for attempt 1**\n",
    "ROC AUC of our models approache towards 1. So, we can conclude that our classifiers do a good job in predicting whether a mushroom is edible or poisonous."
   ]
  },
  {
   "cell_type": "markdown",
   "metadata": {
    "id": "uk1idiCxhCAK"
   },
   "source": [
    "### Evaluation for attempt 2"
   ]
  },
  {
   "cell_type": "code",
   "execution_count": 20,
   "metadata": {
    "colab": {
     "base_uri": "https://localhost:8080/",
     "height": 0
    },
    "id": "xgrLytt6hEcV",
    "outputId": "c810b72d-5af9-4252-f503-35d46c394423"
   },
   "outputs": [
    {
     "name": "stdout",
     "output_type": "stream",
     "text": [
      "---+++ Naive Bayes Model +++---\n",
      "+++Own Model+++\n",
      "Train Evaluation\n",
      "[[3128   19]\n",
      " [ 256 2690]]\n",
      "              precision    recall  f1-score   support\n",
      "\n",
      "           e       0.92      0.99      0.96      3147\n",
      "           p       0.99      0.91      0.95      2946\n",
      "\n",
      "    accuracy                           0.95      6093\n",
      "   macro avg       0.96      0.95      0.95      6093\n",
      "weighted avg       0.96      0.95      0.95      6093\n",
      "\n",
      "Test Evaluation\n",
      "[[1056    5]\n",
      " [  73  897]]\n",
      "              precision    recall  f1-score   support\n",
      "\n",
      "           e       0.94      1.00      0.96      1061\n",
      "           p       0.99      0.92      0.96       970\n",
      "\n",
      "    accuracy                           0.96      2031\n",
      "   macro avg       0.96      0.96      0.96      2031\n",
      "weighted avg       0.96      0.96      0.96      2031\n",
      "\n",
      "Major Evaluation\n",
      "[[   0 1061]\n",
      " [   0  970]]\n",
      "              precision    recall  f1-score   support\n",
      "\n",
      "           e       0.00      0.00      0.00      1061\n",
      "           p       0.48      1.00      0.65       970\n",
      "\n",
      "    accuracy                           0.48      2031\n",
      "   macro avg       0.24      0.50      0.32      2031\n",
      "weighted avg       0.23      0.48      0.31      2031\n",
      "\n",
      "+++Builtin Model+++\n",
      "Train Evaluation\n",
      "[[3128   19]\n",
      " [ 256 2690]]\n",
      "              precision    recall  f1-score   support\n",
      "\n",
      "           e       0.92      0.99      0.96      3147\n",
      "           p       0.99      0.91      0.95      2946\n",
      "\n",
      "    accuracy                           0.95      6093\n",
      "   macro avg       0.96      0.95      0.95      6093\n",
      "weighted avg       0.96      0.95      0.95      6093\n",
      "\n",
      "Test Evaluation\n",
      "[[1056    5]\n",
      " [  73  897]]\n",
      "              precision    recall  f1-score   support\n",
      "\n",
      "           e       0.94      1.00      0.96      1061\n",
      "           p       0.99      0.92      0.96       970\n",
      "\n",
      "    accuracy                           0.96      2031\n",
      "   macro avg       0.96      0.96      0.96      2031\n",
      "weighted avg       0.96      0.96      0.96      2031\n",
      "\n",
      "Major Evaluation\n",
      "[[   0 1061]\n",
      " [   0  970]]\n",
      "              precision    recall  f1-score   support\n",
      "\n",
      "           e       0.00      0.00      0.00      1061\n",
      "           p       0.48      1.00      0.65       970\n",
      "\n",
      "    accuracy                           0.48      2031\n",
      "   macro avg       0.24      0.50      0.32      2031\n",
      "weighted avg       0.23      0.48      0.31      2031\n",
      "\n",
      "---+++ Tree Decision Model +++---\n",
      "+++Own Model+++\n",
      "Train Evaluation\n",
      "[[3147    0]\n",
      " [2946    0]]\n",
      "              precision    recall  f1-score   support\n",
      "\n",
      "           e       0.52      1.00      0.68      3147\n",
      "           p       0.00      0.00      0.00      2946\n",
      "\n",
      "    accuracy                           0.52      6093\n",
      "   macro avg       0.26      0.50      0.34      6093\n",
      "weighted avg       0.27      0.52      0.35      6093\n",
      "\n",
      "Test Evaluation\n",
      "[[1061    0]\n",
      " [ 970    0]]\n",
      "              precision    recall  f1-score   support\n",
      "\n",
      "           e       0.52      1.00      0.69      1061\n",
      "           p       0.00      0.00      0.00       970\n",
      "\n",
      "    accuracy                           0.52      2031\n",
      "   macro avg       0.26      0.50      0.34      2031\n",
      "weighted avg       0.27      0.52      0.36      2031\n",
      "\n",
      "Major Evaluation\n",
      "[[   0 1061]\n",
      " [   0  970]]\n",
      "              precision    recall  f1-score   support\n",
      "\n",
      "           e       0.00      0.00      0.00      1061\n",
      "           p       0.48      1.00      0.65       970\n",
      "\n",
      "    accuracy                           0.48      2031\n",
      "   macro avg       0.24      0.50      0.32      2031\n",
      "weighted avg       0.23      0.48      0.31      2031\n",
      "\n",
      "+++Builtin Model+++\n",
      "Train Evaluation\n",
      "[[3044  103]\n",
      " [ 121 2825]]\n",
      "              precision    recall  f1-score   support\n",
      "\n",
      "           e       0.96      0.97      0.96      3147\n",
      "           p       0.96      0.96      0.96      2946\n",
      "\n",
      "    accuracy                           0.96      6093\n",
      "   macro avg       0.96      0.96      0.96      6093\n",
      "weighted avg       0.96      0.96      0.96      6093\n",
      "\n",
      "Test Evaluation\n",
      "[[1020   41]\n",
      " [  35  935]]\n",
      "              precision    recall  f1-score   support\n",
      "\n",
      "           e       0.97      0.96      0.96      1061\n",
      "           p       0.96      0.96      0.96       970\n",
      "\n",
      "    accuracy                           0.96      2031\n",
      "   macro avg       0.96      0.96      0.96      2031\n",
      "weighted avg       0.96      0.96      0.96      2031\n",
      "\n",
      "Major Evaluation\n",
      "[[   0 1061]\n",
      " [   0  970]]\n",
      "              precision    recall  f1-score   support\n",
      "\n",
      "           e       0.00      0.00      0.00      1061\n",
      "           p       0.48      1.00      0.65       970\n",
      "\n",
      "    accuracy                           0.48      2031\n",
      "   macro avg       0.24      0.50      0.32      2031\n",
      "weighted avg       0.23      0.48      0.31      2031\n",
      "\n"
     ]
    }
   ],
   "source": [
    "#Evaluation for Naive Bayes Model\n",
    "print(\"---+++ Naive Bayes Model +++---\")\n",
    "print(\"+++Own Model+++\")\n",
    "eval_nb_own = Evaluation(\"class\", train_2, test_2, nb_own_2, paths[1])\n",
    "eval_nb_own.script()\n",
    "print(\"+++Builtin Model+++\")\n",
    "eval_nb_builtin = Evaluation(\"class\", train_2, test_2, nb_builtin_2, paths[1])\n",
    "eval_nb_builtin.script()\n",
    "\n",
    "#Evaluation for Tree Decision Model\n",
    "print(\"---+++ Tree Decision Model +++---\")\n",
    "print(\"+++Own Model+++\")\n",
    "eval_tree_own = Evaluation(\"class\", train_2, test_2, tree_own_2, paths[1])\n",
    "eval_tree_own.script()\n",
    "print(\"+++Builtin Model+++\")\n",
    "eval_tree_builtin = Evaluation(\"class\", train_2, test_2, tree_builtin_2, paths[1])\n",
    "eval_tree_builtin.script()"
   ]
  },
  {
   "cell_type": "markdown",
   "metadata": {
    "id": "jcyFfJhdyXkL"
   },
   "source": [
    "### ROC Curve"
   ]
  },
  {
   "cell_type": "code",
   "execution_count": 21,
   "metadata": {
    "colab": {
     "base_uri": "https://localhost:8080/",
     "height": 1266
    },
    "id": "_JQraye2yUiY",
    "outputId": "e93be29e-20c4-4647-c111-73db88b4126a"
   },
   "outputs": [
    {
     "name": "stdout",
     "output_type": "stream",
     "text": [
      "---+++ Naive Bayes Model +++---\n",
      "+++Own Model+++\n"
     ]
    },
    {
     "data": {
      "image/png": "[encoded data removed]",
      "text/plain": [
       "<Figure size 432x288 with 1 Axes>"
      ]
     },
     "metadata": {
      "needs_background": "light"
     },
     "output_type": "display_data"
    },
    {
     "name": "stdout",
     "output_type": "stream",
     "text": [
      "+++Builtin Model+++\n"
     ]
    },
    {
     "data": {
      "image/png": "[encoded data removed]",
      "text/plain": [
       "<Figure size 432x288 with 1 Axes>"
      ]
     },
     "metadata": {
      "needs_background": "light"
     },
     "output_type": "display_data"
    },
    {
     "name": "stdout",
     "output_type": "stream",
     "text": [
      "---+++ Tree Decision Model +++---\n",
      "+++Own Model+++\n"
     ]
    },
    {
     "data": {
      "image/png": "[encoded data removed]",
      "text/plain": [
       "<Figure size 432x288 with 1 Axes>"
      ]
     },
     "metadata": {
      "needs_background": "light"
     },
     "output_type": "display_data"
    },
    {
     "name": "stdout",
     "output_type": "stream",
     "text": [
      "+++Builtin Model+++\n"
     ]
    },
    {
     "data": {
      "image/png": "[encoded data removed]",
      "text/plain": [
       "<Figure size 432x288 with 1 Axes>"
      ]
     },
     "metadata": {
      "needs_background": "light"
     },
     "output_type": "display_data"
    }
   ],
   "source": [
    "#ROC Curve for Naive Bayes Model\n",
    "print(\"---+++ Naive Bayes Model +++---\")\n",
    "print(\"+++Own Model+++\")\n",
    "eval_nb_own.drawROCCurve('p')\n",
    "print(\"+++Builtin Model+++\")\n",
    "eval_nb_builtin.drawROCCurve('p')\n",
    "\n",
    "#ROC Curve for Tree Decision Model\n",
    "print(\"---+++ Tree Decision Model +++---\")\n",
    "print(\"+++Own Model+++\")\n",
    "eval_tree_own.drawROCCurve('p')\n",
    "print(\"+++Builtin Model+++\")\n",
    "eval_tree_builtin.drawROCCurve('p')"
   ]
  },
  {
   "cell_type": "markdown",
   "metadata": {
    "id": "D7I6xpe1cYtP"
   },
   "source": [
    "### AUC Score"
   ]
  },
  {
   "cell_type": "code",
   "execution_count": 22,
   "metadata": {
    "colab": {
     "base_uri": "https://localhost:8080/",
     "height": 0
    },
    "id": "ntWiKNQdcWVx",
    "outputId": "0a0d221a-b82a-4f3f-bab5-f9271fc6de3c"
   },
   "outputs": [
    {
     "name": "stdout",
     "output_type": "stream",
     "text": [
      "---+++ Naive Bayes Model +++---\n",
      "+++Own Model+++\n",
      "0.9984103695210703\n",
      "ROC AUC : None\n",
      "+++Builtin Model+++\n",
      "0.9984103695210703\n",
      "ROC AUC : None\n",
      "---+++ Tree Decision Model +++---\n",
      "+++Own Model+++\n",
      "0.5\n",
      "ROC AUC : None\n",
      "+++Builtin Model+++\n",
      "0.9953341041810391\n",
      "ROC AUC : None\n"
     ]
    }
   ],
   "source": [
    "#AUC Score for Naive Bayes Model\n",
    "print(\"---+++ Naive Bayes Model +++---\")\n",
    "print(\"+++Own Model+++\")\n",
    "ROC_AUC = eval_nb_own.getAUC('p')\n",
    "print('ROC AUC : {0}'.format(ROC_AUC))\n",
    "\n",
    "print(\"+++Builtin Model+++\")\n",
    "ROC_AUC = eval_nb_builtin.getAUC('p')\n",
    "print('ROC AUC : {0}'.format(ROC_AUC))\n",
    "\n",
    "#ROC Curve for Tree Decision Model\n",
    "print(\"---+++ Tree Decision Model +++---\")\n",
    "print(\"+++Own Model+++\")\n",
    "ROC_AUC = eval_tree_own.getAUC('p')\n",
    "print('ROC AUC : {0}'.format(ROC_AUC))\n",
    "\n",
    "print(\"+++Builtin Model+++\")\n",
    "ROC_AUC = eval_tree_builtin.getAUC('p')\n",
    "print('ROC AUC : {0}'.format(ROC_AUC))"
   ]
  },
  {
   "cell_type": "markdown",
   "metadata": {
    "id": "Fp1y2RhEwWAL"
   },
   "source": [
    "### **Interpretation for attempt 2**\n",
    "Except for my own decision tree model, ROC AUC of our models approache towards 1. So, we can conclude that our classifiers do a good job in predicting whether a mushroom is edible or poisonous.\n",
    "About my own decision tree model, we see than the ROC curve is on the diagonal line. also the ROC AUC is equal to 0.5 so in this case the model is not accurate at all."
   ]
  },
  {
   "cell_type": "markdown",
   "metadata": {
    "id": "s4mOwkiTlxyi"
   },
   "source": [
    "### Evaluation for attempt 3"
   ]
  },
  {
   "cell_type": "code",
   "execution_count": 23,
   "metadata": {
    "colab": {
     "base_uri": "https://localhost:8080/",
     "height": 0
    },
    "id": "6L7b0Z48mA4f",
    "outputId": "37bad8ae-1160-4cfe-bbb7-b08109bfa29b"
   },
   "outputs": [
    {
     "name": "stdout",
     "output_type": "stream",
     "text": [
      "---+++ Naive Bayes Model +++---\n",
      "+++Own Model+++\n",
      "Train Evaluation\n",
      "[[2494   15]\n",
      " [ 213 2152]]\n",
      "              precision    recall  f1-score   support\n",
      "\n",
      "           e       0.92      0.99      0.96      2509\n",
      "           p       0.99      0.91      0.95      2365\n",
      "\n",
      "    accuracy                           0.95      4874\n",
      "   macro avg       0.96      0.95      0.95      4874\n",
      "weighted avg       0.96      0.95      0.95      4874\n",
      "\n",
      "Test Evaluation\n",
      "[[1695    4]\n",
      " [ 119 1432]]\n",
      "              precision    recall  f1-score   support\n",
      "\n",
      "           e       0.93      1.00      0.96      1699\n",
      "           p       1.00      0.92      0.96      1551\n",
      "\n",
      "    accuracy                           0.96      3250\n",
      "   macro avg       0.97      0.96      0.96      3250\n",
      "weighted avg       0.96      0.96      0.96      3250\n",
      "\n",
      "Major Evaluation\n",
      "[[   0 1699]\n",
      " [   0 1551]]\n",
      "              precision    recall  f1-score   support\n",
      "\n",
      "           e       0.00      0.00      0.00      1699\n",
      "           p       0.48      1.00      0.65      1551\n",
      "\n",
      "    accuracy                           0.48      3250\n",
      "   macro avg       0.24      0.50      0.32      3250\n",
      "weighted avg       0.23      0.48      0.31      3250\n",
      "\n",
      "+++Builtin Model+++\n",
      "Train Evaluation\n",
      "[[2494   15]\n",
      " [ 213 2152]]\n",
      "              precision    recall  f1-score   support\n",
      "\n",
      "           e       0.92      0.99      0.96      2509\n",
      "           p       0.99      0.91      0.95      2365\n",
      "\n",
      "    accuracy                           0.95      4874\n",
      "   macro avg       0.96      0.95      0.95      4874\n",
      "weighted avg       0.96      0.95      0.95      4874\n",
      "\n",
      "Test Evaluation\n",
      "[[1695    4]\n",
      " [ 119 1432]]\n",
      "              precision    recall  f1-score   support\n",
      "\n",
      "           e       0.93      1.00      0.96      1699\n",
      "           p       1.00      0.92      0.96      1551\n",
      "\n",
      "    accuracy                           0.96      3250\n",
      "   macro avg       0.97      0.96      0.96      3250\n",
      "weighted avg       0.96      0.96      0.96      3250\n",
      "\n",
      "Major Evaluation\n",
      "[[   0 1699]\n",
      " [   0 1551]]\n",
      "              precision    recall  f1-score   support\n",
      "\n",
      "           e       0.00      0.00      0.00      1699\n",
      "           p       0.48      1.00      0.65      1551\n",
      "\n",
      "    accuracy                           0.48      3250\n",
      "   macro avg       0.24      0.50      0.32      3250\n",
      "weighted avg       0.23      0.48      0.31      3250\n",
      "\n",
      "---+++ Tree Decision Model +++---\n",
      "+++Own Model+++\n",
      "Train Evaluation\n",
      "[[2509    0]\n",
      " [   0 2365]]\n",
      "              precision    recall  f1-score   support\n",
      "\n",
      "           e       1.00      1.00      1.00      2509\n",
      "           p       1.00      1.00      1.00      2365\n",
      "\n",
      "    accuracy                           1.00      4874\n",
      "   macro avg       1.00      1.00      1.00      4874\n",
      "weighted avg       1.00      1.00      1.00      4874\n",
      "\n",
      "Test Evaluation\n",
      "[[1699    0]\n",
      " [   0 1551]]\n",
      "              precision    recall  f1-score   support\n",
      "\n",
      "           e       1.00      1.00      1.00      1699\n",
      "           p       1.00      1.00      1.00      1551\n",
      "\n",
      "    accuracy                           1.00      3250\n",
      "   macro avg       1.00      1.00      1.00      3250\n",
      "weighted avg       1.00      1.00      1.00      3250\n",
      "\n",
      "Major Evaluation\n",
      "[[   0 1699]\n",
      " [   0 1551]]\n",
      "              precision    recall  f1-score   support\n",
      "\n",
      "           e       0.00      0.00      0.00      1699\n",
      "           p       0.48      1.00      0.65      1551\n",
      "\n",
      "    accuracy                           0.48      3250\n",
      "   macro avg       0.24      0.50      0.32      3250\n",
      "weighted avg       0.23      0.48      0.31      3250\n",
      "\n",
      "+++Builtin Model+++\n",
      "Train Evaluation\n",
      "[[2509    0]\n",
      " [   0 2365]]\n",
      "              precision    recall  f1-score   support\n",
      "\n",
      "           e       1.00      1.00      1.00      2509\n",
      "           p       1.00      1.00      1.00      2365\n",
      "\n",
      "    accuracy                           1.00      4874\n",
      "   macro avg       1.00      1.00      1.00      4874\n",
      "weighted avg       1.00      1.00      1.00      4874\n",
      "\n",
      "Test Evaluation\n",
      "[[1699    0]\n",
      " [   0 1551]]\n",
      "              precision    recall  f1-score   support\n",
      "\n",
      "           e       1.00      1.00      1.00      1699\n",
      "           p       1.00      1.00      1.00      1551\n",
      "\n",
      "    accuracy                           1.00      3250\n",
      "   macro avg       1.00      1.00      1.00      3250\n",
      "weighted avg       1.00      1.00      1.00      3250\n",
      "\n",
      "Major Evaluation\n",
      "[[   0 1699]\n",
      " [   0 1551]]\n",
      "              precision    recall  f1-score   support\n",
      "\n",
      "           e       0.00      0.00      0.00      1699\n",
      "           p       0.48      1.00      0.65      1551\n",
      "\n",
      "    accuracy                           0.48      3250\n",
      "   macro avg       0.24      0.50      0.32      3250\n",
      "weighted avg       0.23      0.48      0.31      3250\n",
      "\n"
     ]
    }
   ],
   "source": [
    "#Evaluation for Naive Bayes Model\n",
    "print(\"---+++ Naive Bayes Model +++---\")\n",
    "print(\"+++Own Model+++\")\n",
    "eval_nb_own = Evaluation(\"class\", train_3, test_3, nb_own_3, paths[2])\n",
    "eval_nb_own.script()\n",
    "print(\"+++Builtin Model+++\")\n",
    "eval_nb_builtin = Evaluation(\"class\", train_3, test_3, nb_builtin_3, paths[2])\n",
    "eval_nb_builtin.script()\n",
    "\n",
    "#Evaluation for Tree Decision Model\n",
    "print(\"---+++ Tree Decision Model +++---\")\n",
    "print(\"+++Own Model+++\")\n",
    "eval_tree_own = Evaluation(\"class\", train_3, test_3, tree_own_3, paths[2])\n",
    "eval_tree_own.script()\n",
    "print(\"+++Builtin Model+++\")\n",
    "eval_tree_builtin = Evaluation(\"class\", train_3, test_3, tree_builtin_3, paths[2])\n",
    "eval_tree_builtin.script()"
   ]
  },
  {
   "cell_type": "markdown",
   "metadata": {
    "id": "X8oZn1cf1vi8"
   },
   "source": [
    "### ROC Curve"
   ]
  },
  {
   "cell_type": "code",
   "execution_count": 24,
   "metadata": {
    "colab": {
     "base_uri": "https://localhost:8080/",
     "height": 1266
    },
    "id": "F3AsoU0v1Rab",
    "outputId": "514f1fc0-9a1b-4553-8c4e-e15fb4e608cc"
   },
   "outputs": [
    {
     "name": "stdout",
     "output_type": "stream",
     "text": [
      "---+++ Naive Bayes Model +++---\n",
      "+++Own Model+++\n"
     ]
    },
    {
     "data": {
      "image/png": "[encoded data removed]",
      "text/plain": [
       "<Figure size 432x288 with 1 Axes>"
      ]
     },
     "metadata": {
      "needs_background": "light"
     },
     "output_type": "display_data"
    },
    {
     "name": "stdout",
     "output_type": "stream",
     "text": [
      "+++Builtin Model+++\n"
     ]
    },
    {
     "data": {
      "image/png": "[encoded data removed]",
      "text/plain": [
       "<Figure size 432x288 with 1 Axes>"
      ]
     },
     "metadata": {
      "needs_background": "light"
     },
     "output_type": "display_data"
    },
    {
     "name": "stdout",
     "output_type": "stream",
     "text": [
      "---+++ Tree Decision Model +++---\n",
      "+++Own Model+++\n"
     ]
    },
    {
     "data": {
      "image/png": "[encoded data removed]",
      "text/plain": [
       "<Figure size 432x288 with 1 Axes>"
      ]
     },
     "metadata": {
      "needs_background": "light"
     },
     "output_type": "display_data"
    },
    {
     "name": "stdout",
     "output_type": "stream",
     "text": [
      "+++Builtin Model+++\n"
     ]
    },
    {
     "data": {
      "image/png": "[encoded data removed]",
      "text/plain": [
       "<Figure size 432x288 with 1 Axes>"
      ]
     },
     "metadata": {
      "needs_background": "light"
     },
     "output_type": "display_data"
    }
   ],
   "source": [
    "#ROC Curve for Naive Bayes Model\n",
    "print(\"---+++ Naive Bayes Model +++---\")\n",
    "print(\"+++Own Model+++\")\n",
    "eval_nb_own.drawROCCurve('p')\n",
    "print(\"+++Builtin Model+++\")\n",
    "eval_nb_builtin.drawROCCurve('p')\n",
    "\n",
    "#ROC Curve for Tree Decision Model\n",
    "print(\"---+++ Tree Decision Model +++---\")\n",
    "print(\"+++Own Model+++\")\n",
    "eval_tree_own.drawROCCurve('p')\n",
    "print(\"+++Builtin Model+++\")\n",
    "eval_tree_builtin.drawROCCurve('p')"
   ]
  },
  {
   "cell_type": "markdown",
   "metadata": {
    "id": "jbaxehnDcpVr"
   },
   "source": [
    "### AUC Score"
   ]
  },
  {
   "cell_type": "code",
   "execution_count": 25,
   "metadata": {
    "colab": {
     "base_uri": "https://localhost:8080/",
     "height": 0
    },
    "id": "uVBv5C9tcru3",
    "outputId": "4680cb08-a662-47b0-839f-3ea4a7154372"
   },
   "outputs": [
    {
     "name": "stdout",
     "output_type": "stream",
     "text": [
      "---+++ Naive Bayes Model +++---\n",
      "+++Own Model+++\n",
      "0.9983439266622115\n",
      "ROC AUC : None\n",
      "+++Builtin Model+++\n",
      "0.9983439266622115\n",
      "ROC AUC : None\n",
      "---+++ Tree Decision Model +++---\n",
      "+++Own Model+++\n",
      "1.0\n",
      "ROC AUC : None\n",
      "+++Builtin Model+++\n",
      "1.0\n",
      "ROC AUC : None\n"
     ]
    }
   ],
   "source": [
    "#AUC Score for Naive Bayes Model\n",
    "print(\"---+++ Naive Bayes Model +++---\")\n",
    "print(\"+++Own Model+++\")\n",
    "ROC_AUC = eval_nb_own.getAUC('p')\n",
    "print('ROC AUC : {0}'.format(ROC_AUC))\n",
    "\n",
    "print(\"+++Builtin Model+++\")\n",
    "ROC_AUC = eval_nb_builtin.getAUC('p')\n",
    "print('ROC AUC : {0}'.format(ROC_AUC))\n",
    "\n",
    "#ROC Curve for Tree Decision Model\n",
    "print(\"---+++ Tree Decision Model +++---\")\n",
    "print(\"+++Own Model+++\")\n",
    "ROC_AUC = eval_tree_own.getAUC('p')\n",
    "print('ROC AUC : {0}'.format(ROC_AUC))\n",
    "\n",
    "print(\"+++Builtin Model+++\")\n",
    "ROC_AUC = eval_tree_builtin.getAUC('p')\n",
    "print('ROC AUC : {0}'.format(ROC_AUC))"
   ]
  },
  {
   "cell_type": "markdown",
   "metadata": {
    "id": "XUIL6JrGxhOw"
   },
   "source": [
    "### **Interpretation for attempt 3**\n",
    "ROC AUC of our models approache towards 1. So, we can conclude that our classifiers do a good job in predicting whether a mushroom is edible or poisonous."
   ]
  },
  {
   "cell_type": "markdown",
   "metadata": {
    "id": "_7StreCO2niM"
   },
   "source": [
    "# **Results and conclusion**\n",
    "In this project, I build: \n",
    "  * Two Gaussian Naïve Bayes Classifier models, an implemented by myself and a builtin sklearn version\n",
    "  * Two Tree Decision Classifier model, an implemented by myself and a builtin sklearn version\n",
    "\n",
    "to predict whether a mushroom is edible or poisonous.\n",
    "\n",
    "We test these models on three attempts described above.\n",
    "The models yield a very good performance as indicated by their model accuracy which was found to be around 0.96 for each models at each attempt.\n",
    "\n",
    "The training-set accuracy score is around 0.96 while the test-set accuracy to be 0.96. These two values are quite comparable. So, there is no sign of overfitting.\n",
    "\n",
    "ROC AUC of our models approaches towards 1. So, we can conclude that our classifier does a very good job in predicting whether a mushroom is edible or not."
   ]
  },
  {
   "cell_type": "markdown",
   "metadata": {
    "id": "R--AoWEO5V7l"
   },
   "source": [
    "# **Appendix** \n",
    "In my Project there are 7 files:\n",
    "* preprocessing.py which contains the Preprocessing class in order to execute all preprocessing tasks.\n",
    "* naivebayes.py which contains the NaiveBayesClassifier class in order to build\n",
    "Naïve Bayes Classifier builtin and own implemented models. \n",
    "* treedecision.py which contains the TreeDecisionClassifier and Node classes in order to build Tree Decision Classifier builtin and own implemented models.\n",
    "* evaluation.py which contains the Evaluation class for evaluation tasks (confusion matrix, classification report, roc curve etc...)\n",
    "* proc.py contains a splitData function for splitting in train and test set and a execute function to execute the software\n",
    "* parsing_perso.py for cli interface\n",
    "* check_arguments.py for checking arguments and raising errors   "
   ]
  }
 ],
 "metadata": {
  "colab": {
   "collapsed_sections": [],
   "name": "Project_EDA.ipynb",
   "provenance": []
  },
  "kernelspec": {
   "display_name": "Python 3 (ipykernel)",
   "language": "python",
   "name": "python3"
  },
  "language_info": {
   "codemirror_mode": {
    "name": "ipython",
    "version": 3
   },
   "file_extension": ".py",
   "mimetype": "text/x-python",
   "name": "python",
   "nbconvert_exporter": "python",
   "pygments_lexer": "ipython3",
   "version": "3.9.7"
  }
 },
 "nbformat": 4,
 "nbformat_minor": 1
}
